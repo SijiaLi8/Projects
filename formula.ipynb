{
 "cells": [
  {
   "cell_type": "markdown",
   "metadata": {},
   "source": [
    "# Sample Propotion"
   ]
  },
  {
   "cell_type": "markdown",
   "metadata": {},
   "source": [
    "## Variables"
   ]
  },
  {
   "cell_type": "markdown",
   "metadata": {},
   "source": [
    "* count1: # of success for experiment\n",
    "* nobs1: size for experiment\n",
    "* count2: # of success for control\n",
    "* nobs2: size for experiment\n",
    "* prop1: the propotion of success for experiment\n",
    "* prop2: the propotion of success for control\n",
    "* ratio: nobs2/nobs1\n",
    "* alpha\n",
    "* power\n",
    "* dmin"
   ]
  },
  {
   "cell_type": "code",
   "execution_count": null,
   "metadata": {},
   "outputs": [],
   "source": [
    "#summary: https://sonalake.com/latest/hypothesis-testing-of-proportion-based-samples/"
   ]
  },
  {
   "cell_type": "code",
   "execution_count": 6,
   "metadata": {},
   "outputs": [],
   "source": [
    "#statsmodel use p1- p2\n",
    "import statsmodels.stats.power as smspower\n",
    "import statsmodels.stats.proportion as prop\n",
    "from scipy.stats import norm\n",
    "import numpy as np"
   ]
  },
  {
   "cell_type": "markdown",
   "metadata": {},
   "source": [
    "## 1.Sample Size"
   ]
  },
  {
   "cell_type": "code",
   "execution_count": null,
   "metadata": {},
   "outputs": [],
   "source": [
    "#Calculate sample size using self_defined function"
   ]
  },
  {
   "cell_type": "code",
   "execution_count": 78,
   "metadata": {},
   "outputs": [],
   "source": [
    "#parameter needed\n",
    "prop2 = 0.13\n",
    "dmin = 0.02\n",
    "power = 0.8\n",
    "alpha = 0.05"
   ]
  },
  {
   "cell_type": "code",
   "execution_count": 79,
   "metadata": {},
   "outputs": [],
   "source": [
    "def min_sample_size(prop2, dmin, power=0.8, alpha=0.05):\n",
    "    \"\"\"Returns the minimum sample size to set up a split test\n",
    "    Arguments:\n",
    "        prop2 (float): probability of success for control, sometimes\n",
    "        referred to as baseline conversion rate\n",
    "        dmin (float): minimum change in measurement between control\n",
    "        group and test group if alternative hypothesis is true, sometimes\n",
    "        referred to as minimum detectable effect\n",
    "        power (float): probability of rejecting the null hypothesis when the\n",
    "        null hypothesis is false, typically 0.8\n",
    "        sig_level (float): significance level often denoted as alpha,\n",
    "        typically 0.05\n",
    "    Returns:\n",
    "        min_N: minimum sample size (float)\n",
    "    References:\n",
    "        Stanford lecture on sample sizes\n",
    "        http://statweb.stanford.edu/~susan/courses/s141/hopower.pdf\n",
    "    \"\"\"\n",
    "\n",
    "    # find Z_beta from desired power\n",
    "    Z_beta = norm.ppf(power)\n",
    "\n",
    "    # find Z_alpha\n",
    "    Z_alpha = norm.ppf(1-alpha/2)\n",
    "\n",
    "    # average of probabilities from both groups\n",
    "    pooled_prob = (prop2 + prop2 + dmin) / 2\n",
    "\n",
    "    min_N = (2 * pooled_prob * (1 - pooled_prob) * (Z_beta + Z_alpha)**2\n",
    "             / dmin**2)\n",
    "\n",
    "    return min_N"
   ]
  },
  {
   "cell_type": "code",
   "execution_count": 80,
   "metadata": {},
   "outputs": [
    {
     "data": {
      "text/plain": [
       "4725.025600078151"
      ]
     },
     "execution_count": 80,
     "metadata": {},
     "output_type": "execute_result"
    }
   ],
   "source": [
    "min_sample_size(prop2, dmin)"
   ]
  },
  {
   "cell_type": "code",
   "execution_count": null,
   "metadata": {},
   "outputs": [],
   "source": [
    "#Calculate sample size using statsmodels"
   ]
  },
  {
   "cell_type": "code",
   "execution_count": 81,
   "metadata": {},
   "outputs": [],
   "source": [
    "#parameter needed\n",
    "prop2 = 0.13\n",
    "dmin = 0.02\n",
    "prop1 = prop2 + dmin\n",
    "power = 0.8\n",
    "alpha = 0.05"
   ]
  },
  {
   "cell_type": "code",
   "execution_count": 82,
   "metadata": {},
   "outputs": [
    {
     "data": {
      "text/plain": [
       "4719.4740575998185"
      ]
     },
     "execution_count": 82,
     "metadata": {},
     "output_type": "execute_result"
    }
   ],
   "source": [
    "#effect\n",
    "std_effect = prop.proportion_effectsize(prop1, prop2)\n",
    "#sample size\n",
    "smspower.zt_ind_solve_power(effect_size = std_effect, nobs1=None, alpha=.05, power=.80)"
   ]
  },
  {
   "cell_type": "markdown",
   "metadata": {},
   "source": [
    "## 2.Confidence Interval"
   ]
  },
  {
   "cell_type": "code",
   "execution_count": 7,
   "metadata": {},
   "outputs": [],
   "source": [
    "pageviews_cont=[ 7723,  9102, 10511,  9871, 10014,  9670,  9008,  7434,  8459,\n",
    "       10667, 10660,  9947,  8324,  9434,  8687,  8896,  9535,  9363,\n",
    "        9327,  9345,  8890,  8460,  8836,  9437,  9420,  9570,  9921,\n",
    "        9424,  9010,  9656, 10419,  9880, 10134,  9717,  9192,  8630,\n",
    "        8970]\n",
    "pageviews_exp=[ 7716,  9288, 10480,  9867,  9793,  9500,  9088,  7664,  8434,\n",
    "       10496, 10551,  9737,  8176,  9402,  8669,  8881,  9655,  9396,\n",
    "        9262,  9308,  8715,  8448,  8836,  9359,  9427,  9633,  9842,\n",
    "        9272,  8969,  9697, 10445,  9931, 10042,  9721,  9304,  8668,\n",
    "        8988]\n",
    "clicks_cont=[687, 779, 909, 836, 837, 823, 748, 632, 691, 861, 867, 838, 665,\n",
    "       673, 691, 708, 759, 736, 739, 734, 706, 681, 693, 788, 781, 805,\n",
    "       830, 781, 756, 825, 874, 830, 801, 814, 735, 743, 722]\n",
    "clicks_exp=[686, 785, 884, 827, 832, 788, 780, 652, 697, 860, 864, 801, 642,\n",
    "       697, 669, 693, 771, 736, 727, 728, 722, 695, 724, 789, 743, 808,\n",
    "       831, 767, 760, 850, 851, 831, 802, 829, 770, 724, 710]\n",
    "enrolls_cont=[134, 147, 167, 156, 163, 138, 146, 110, 131, 165, 196, 162, 127,\n",
    "       220, 176, 161, 233, 154, 196, 167, 174, 156, 206]\n",
    "enrolls_exp=[105, 116, 145, 138, 140, 129, 127,  94, 120, 153, 143, 128, 122,\n",
    "       194, 127, 153, 213, 162, 201, 207, 182, 142, 182]"
   ]
  },
  {
   "cell_type": "code",
   "execution_count": null,
   "metadata": {},
   "outputs": [],
   "source": [
    "#using self_defined function(unpooled SE)"
   ]
  },
  {
   "cell_type": "code",
   "execution_count": 83,
   "metadata": {},
   "outputs": [],
   "source": [
    "#parameter needed\n",
    "#experiment:\n",
    "count1 = sum(clicks_exp)\n",
    "nobs1 = sum(pageviews_exp)\n",
    "#control\n",
    "count2 = sum(clicks_cont)\n",
    "nobs2 = sum(pageviews_cont)"
   ]
  },
  {
   "cell_type": "code",
   "execution_count": 86,
   "metadata": {},
   "outputs": [],
   "source": [
    "def two_proprotions_confint(count1, nobs1, count2, nobs2, alpha = 0.05):\n",
    "    \"\"\"\n",
    "    A/B test for two proportions;\n",
    "    given a success a trial size of group A and B compute\n",
    "    its confidence interval;\n",
    "\n",
    "    Parameters\n",
    "    ----------\n",
    "    count1, count2 : int\n",
    "        Number of successes in each group\n",
    "\n",
    "    nobs1, nobs2 : int\n",
    "        Size, or number of observations in each group\n",
    "\n",
    "    alpha : float, default 0.05\n",
    "\n",
    "    Returns\n",
    "    -------\n",
    "    prop_diff : float\n",
    "        Difference between the two proportion\n",
    "\n",
    "    confint : 1d ndarray\n",
    "        Confidence interval of the two proportion test\n",
    "    \"\"\"\n",
    "    prop1 = count1 / nobs1\n",
    "    prop2 = count2 / nobs2\n",
    "    var = prop1 * (1 - prop1) / nobs1 + prop2 * (1 - prop2) / nobs2\n",
    "    se = np.sqrt(var)\n",
    "\n",
    "    # z critical value\n",
    "    z = norm.ppf(1-alpha/2)\n",
    "\n",
    "    # standard formula for the confidence interval\n",
    "    # point-estimtate +- z * standard-error\n",
    "    diff = prop1 - prop2\n",
    "    confint = diff + np.array([-1, 1]) * z * se\n",
    "    return diff, confint"
   ]
  },
  {
   "cell_type": "code",
   "execution_count": 87,
   "metadata": {},
   "outputs": [
    {
     "data": {
      "text/plain": [
       "(5.662709158693602e-05, array([-0.00123903,  0.00135228]))"
      ]
     },
     "execution_count": 87,
     "metadata": {},
     "output_type": "execute_result"
    }
   ],
   "source": [
    "two_proprotions_confint(count1, nobs1, count2, nobs2, alpha = 0.05)"
   ]
  },
  {
   "cell_type": "code",
   "execution_count": 88,
   "metadata": {},
   "outputs": [
    {
     "data": {
      "text/plain": [
       "(-0.0012363851721392553, 0.001349672826183403)"
      ]
     },
     "execution_count": 88,
     "metadata": {},
     "output_type": "execute_result"
    }
   ],
   "source": [
    "#use package(pooled SE)\n",
    "prop.confint_proportions_2indep(count1, nobs1, count2, nobs2,  \n",
    "                                method=None, compare='diff', alpha=0.05, correction=False)"
   ]
  },
  {
   "cell_type": "markdown",
   "metadata": {},
   "source": [
    "## 3.P Value"
   ]
  },
  {
   "cell_type": "code",
   "execution_count": null,
   "metadata": {},
   "outputs": [],
   "source": [
    "#using package"
   ]
  },
  {
   "cell_type": "code",
   "execution_count": 8,
   "metadata": {},
   "outputs": [],
   "source": [
    "n=len(enrolls_exp)\n",
    "#experiment\n",
    "count1 = sum(enrolls_exp[:n])\n",
    "nobs1 = sum(clicks_exp[:n])\n",
    "#control\n",
    "count2 = sum(enrolls_cont[:n])\n",
    "nobs2 = sum(clicks_cont[:n])"
   ]
  },
  {
   "cell_type": "code",
   "execution_count": 12,
   "metadata": {},
   "outputs": [
    {
     "data": {
      "text/plain": [
       "5.042360502483202"
      ]
     },
     "execution_count": 12,
     "metadata": {},
     "output_type": "execute_result"
    }
   ],
   "source": [
    "nobs1/count1"
   ]
  },
  {
   "cell_type": "code",
   "execution_count": 9,
   "metadata": {},
   "outputs": [
    {
     "data": {
      "text/plain": [
       "<class 'statsmodels.stats.base.HolderTuple'>\n",
       "statistic = -4.702930425242798\n",
       "pvalue = 2.5645382823495675e-06\n",
       "compare = diff\n",
       "method = agresti-caffo\n",
       "diff = -0.020554874580361565\n",
       "ratio = 0.9060883894007418\n",
       "odds_ratio = 0.8828565152169403\n",
       "variance = 1.909806144605413e-05\n",
       "alternative = two-sided\n",
       "value = 0\n",
       "tuple = (-4.702930425242798, 2.5645382823495675e-06)"
      ]
     },
     "execution_count": 9,
     "metadata": {},
     "output_type": "execute_result"
    }
   ],
   "source": [
    "#https://www.statsmodels.org/stable/generated/statsmodels.stats.proportion.test_proportions_2indep.html#statsmodels.stats.proportion.test_proportions_2indep\n",
    "prop.test_proportions_2indep(count1, nobs1, count2, nobs2,  \n",
    "                             value=None, method=None, \n",
    "                             compare='diff', alternative='two-sided', \n",
    "                             correction=True, return_results=True)"
   ]
  },
  {
   "cell_type": "code",
   "execution_count": null,
   "metadata": {},
   "outputs": [],
   "source": [
    "#By Hand\n",
    "#https://medium.com/analytics-vidhya/testing-a-difference-in-population-proportions-in-python-89d57a06254"
   ]
  },
  {
   "cell_type": "markdown",
   "metadata": {},
   "source": [
    "## 4.Power"
   ]
  },
  {
   "cell_type": "code",
   "execution_count": 92,
   "metadata": {},
   "outputs": [],
   "source": [
    "#parameter needed\n",
    "prop1 = count1/nobs1\n",
    "prop2 = count2/nobs2\n",
    "diff = prop1 - prop2\n",
    "ratio = nobs2/nobs1"
   ]
  },
  {
   "cell_type": "code",
   "execution_count": 93,
   "metadata": {},
   "outputs": [
    {
     "data": {
      "text/plain": [
       "<class 'statsmodels.tools.testing.Holder'>\n",
       "power = 0.996933464150996\n",
       "p_pooled = 0.2085972518904125\n",
       "std_null = 0.5746032342306825\n",
       "std_alt = 0.5744193810743623\n",
       "nobs1 = 17260\n",
       "nobs2 = 17293.0\n",
       "nobs_ratio = 1.0019119351100811\n",
       "alpha = 0.05"
      ]
     },
     "execution_count": 93,
     "metadata": {},
     "output_type": "execute_result"
    }
   ],
   "source": [
    "prop.power_proportions_2indep(diff, \n",
    "                              prop2, nobs1, \n",
    "                              ratio, alpha=0.05, value=0, \n",
    "                              alternative='two-sided', return_results=True)"
   ]
  },
  {
   "cell_type": "markdown",
   "metadata": {},
   "source": [
    "# Sample Mean"
   ]
  },
  {
   "cell_type": "code",
   "execution_count": 97,
   "metadata": {},
   "outputs": [],
   "source": [
    "#https://www.statsmodels.org/stable/generated/statsmodels.stats.power.TTestIndPower.html#statsmodels.stats.power.TTestIndPower"
   ]
  },
  {
   "cell_type": "code",
   "execution_count": 98,
   "metadata": {},
   "outputs": [],
   "source": [
    "#https://www.statsmodels.org/stable/generated/statsmodels.stats.power.tt_ind_solve_power.html#statsmodels.stats.power.tt_ind_solve_power"
   ]
  }
 ],
 "metadata": {
  "kernelspec": {
   "display_name": "Python 3",
   "language": "python",
   "name": "python3"
  },
  "language_info": {
   "codemirror_mode": {
    "name": "ipython",
    "version": 3
   },
   "file_extension": ".py",
   "mimetype": "text/x-python",
   "name": "python",
   "nbconvert_exporter": "python",
   "pygments_lexer": "ipython3",
   "version": "3.7.10"
  }
 },
 "nbformat": 4,
 "nbformat_minor": 2
}
